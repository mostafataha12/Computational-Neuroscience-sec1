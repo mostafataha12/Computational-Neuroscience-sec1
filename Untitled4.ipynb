{
  "nbformat": 4,
  "nbformat_minor": 0,
  "metadata": {
    "colab": {
      "provenance": []
    },
    "kernelspec": {
      "name": "python3",
      "display_name": "Python 3"
    },
    "language_info": {
      "name": "python"
    }
  },
  "cells": [
    {
      "cell_type": "code",
      "execution_count": 1,
      "metadata": {
        "id": "sumtAeMX-dLq"
      },
      "outputs": [],
      "source": [
        "import torch\n",
        "import torch.nn as nn\n",
        "import torch.nn.functional as F\n",
        "import torchvision\n",
        "import torchvision.transforms as transforms\n",
        "import matplotlib.pyplot as plt\n",
        "import numpy as np"
      ]
    },
    {
      "cell_type": "code",
      "source": [
        "device = torch.device('cuda' if torch.cuda.is_available() else 'cpu')"
      ],
      "metadata": {
        "id": "gHp38YoE-mEh"
      },
      "execution_count": 2,
      "outputs": []
    },
    {
      "cell_type": "code",
      "source": [
        "num_epochs = 2\n",
        "batch_size = 64\n",
        "learning_rate = 0.001"
      ],
      "metadata": {
        "id": "Au6o0fiS-mCF"
      },
      "execution_count": 3,
      "outputs": []
    },
    {
      "cell_type": "code",
      "source": [
        "transform = transforms.Compose([transforms.ToTensor()])\n",
        "\n",
        "train_dataset = torchvision.datasets.MNIST(root='./data',\n",
        "                                           train=True,\n",
        "                                           transform=transform,\n",
        "                                           download=True)\n",
        "\n",
        "test_dataset = torchvision.datasets.MNIST(root='./data',\n",
        "                                          train=False,\n",
        "                                          transform=transform)\n",
        "\n",
        "train_loader = torch.utils.data.DataLoader(dataset=train_dataset,\n",
        "                                           batch_size=batch_size,\n",
        "                                           shuffle=True)\n",
        "\n",
        "test_loader = torch.utils.data.DataLoader(dataset=test_dataset,\n",
        "                                          batch_size=batch_size,\n",
        "                                          shuffle=False)"
      ],
      "metadata": {
        "colab": {
          "base_uri": "https://localhost:8080/"
        },
        "id": "CjrQmhvC-l_h",
        "outputId": "7b6cadae-b0f0-4a74-f61f-ff544b844eb9"
      },
      "execution_count": 4,
      "outputs": [
        {
          "output_type": "stream",
          "name": "stderr",
          "text": [
            "100%|██████████| 9.91M/9.91M [00:00<00:00, 59.5MB/s]\n",
            "100%|██████████| 28.9k/28.9k [00:00<00:00, 1.70MB/s]\n",
            "100%|██████████| 1.65M/1.65M [00:00<00:00, 14.9MB/s]\n",
            "100%|██████████| 4.54k/4.54k [00:00<00:00, 6.07MB/s]\n"
          ]
        }
      ]
    },
    {
      "cell_type": "code",
      "source": [
        "class NeuralNet(nn.Module):\n",
        "    def __init__(self):\n",
        "        super(NeuralNet, self).__init__()\n",
        "        self.fc1 = nn.Linear(28*28, 256)\n",
        "        self.fc2 = nn.Linear(256, 10)\n",
        "\n",
        "    def forward(self, x):\n",
        "        x = x.reshape(-1, 28*28)\n",
        "        x = F.relu(self.fc1(x))\n",
        "        x = self.fc2(x)\n",
        "        return x\n",
        "\n",
        "model = NeuralNet().to(device)"
      ],
      "metadata": {
        "id": "vf8hW5Og-l9G"
      },
      "execution_count": 5,
      "outputs": []
    },
    {
      "cell_type": "code",
      "source": [
        "criterion = nn.CrossEntropyLoss()\n",
        "optimizer = torch.optim.Adam(model.parameters(), lr=learning_rate)\n",
        "\n",
        "n_total_steps = len(train_loader)\n",
        "for epoch in range(num_epochs):\n",
        "    for i, (images, labels) in enumerate(train_loader):\n",
        "        images = images.to(device)\n",
        "        labels = labels.to(device)\n",
        "\n",
        "        outputs = model(images)\n",
        "        loss = criterion(outputs, labels)\n",
        "\n",
        "        optimizer.zero_grad()\n",
        "        loss.backward()\n",
        "        optimizer.step()\n",
        "\n",
        "        if (i+1) % 100 == 0:\n",
        "            print(f'Epoch [{epoch+1}/{num_epochs}], Step [{i+1}/{n_total_steps}], Loss: {loss.item():.4f}')"
      ],
      "metadata": {
        "colab": {
          "base_uri": "https://localhost:8080/"
        },
        "id": "TVaGGjYW-l6n",
        "outputId": "34a19706-cbc9-4225-d1c8-4e91ae23e8bc"
      },
      "execution_count": 6,
      "outputs": [
        {
          "output_type": "stream",
          "name": "stdout",
          "text": [
            "Epoch [1/2], Step [100/938], Loss: 0.3919\n",
            "Epoch [1/2], Step [200/938], Loss: 0.4537\n",
            "Epoch [1/2], Step [300/938], Loss: 0.2850\n",
            "Epoch [1/2], Step [400/938], Loss: 0.3213\n",
            "Epoch [1/2], Step [500/938], Loss: 0.1836\n",
            "Epoch [1/2], Step [600/938], Loss: 0.0741\n",
            "Epoch [1/2], Step [700/938], Loss: 0.2015\n",
            "Epoch [1/2], Step [800/938], Loss: 0.1209\n",
            "Epoch [1/2], Step [900/938], Loss: 0.1053\n",
            "Epoch [2/2], Step [100/938], Loss: 0.2456\n",
            "Epoch [2/2], Step [200/938], Loss: 0.0853\n",
            "Epoch [2/2], Step [300/938], Loss: 0.0828\n",
            "Epoch [2/2], Step [400/938], Loss: 0.1168\n",
            "Epoch [2/2], Step [500/938], Loss: 0.0783\n",
            "Epoch [2/2], Step [600/938], Loss: 0.0418\n",
            "Epoch [2/2], Step [700/938], Loss: 0.0840\n",
            "Epoch [2/2], Step [800/938], Loss: 0.1393\n",
            "Epoch [2/2], Step [900/938], Loss: 0.1856\n"
          ]
        }
      ]
    },
    {
      "cell_type": "code",
      "source": [
        "with torch.no_grad():\n",
        "    n_correct = 0\n",
        "    n_samples = 0\n",
        "    for images, labels in test_loader:\n",
        "        images = images.to(device)\n",
        "        labels = labels.to(device)\n",
        "        outputs = model(images)\n",
        "        _, predicted = torch.max(outputs.data, 1)\n",
        "        n_samples += labels.size(0)\n",
        "        n_correct += (predicted == labels).sum().item()\n",
        "\n",
        "    acc = 100.0 * n_correct / n_samples\n",
        "    print(f'Accuracy of the network on the 10000 test images: {acc:.2f}%')"
      ],
      "metadata": {
        "colab": {
          "base_uri": "https://localhost:8080/"
        },
        "id": "lhLbU1aM-l4R",
        "outputId": "8289fb7b-e770-4789-f35d-8a0a8202a722"
      },
      "execution_count": 7,
      "outputs": [
        {
          "output_type": "stream",
          "name": "stdout",
          "text": [
            "Accuracy of the network on the 10000 test images: 96.93%\n"
          ]
        }
      ]
    },
    {
      "cell_type": "code",
      "source": [
        "def imshow(img):\n",
        "    img = img.numpy()\n",
        "    plt.imshow(np.transpose(img, (1, 2, 0)))\n",
        "    plt.show()\n",
        "\n",
        "dataiter = iter(test_loader)\n",
        "images, labels = next(dataiter)\n",
        "images, labels = images.to(device), labels.to(device)\n",
        "\n",
        "outputs = model(images)\n",
        "_, predicted = torch.max(outputs, 1)\n",
        "\n",
        "images = images.cpu()\n",
        "labels = labels.cpu()\n",
        "predicted = predicted.cpu()\n",
        "\n",
        "correct = (predicted == labels)\n",
        "correct_indices = correct.nonzero(as_tuple=True)[0]\n",
        "print(\"\\nCorrectly classified examples:\")\n",
        "plt.figure(figsize=(10,4))\n",
        "for i in range(5):\n",
        "    if i < len(correct_indices):\n",
        "        idx = correct_indices[i]\n",
        "        plt.subplot(1, 5, i+1)\n",
        "        plt.imshow(images[idx][0], cmap='gray')\n",
        "        plt.title(f\"Pred: {predicted[idx]}\\nTrue: {labels[idx]}\")\n",
        "        plt.axis('off')\n",
        "plt.show()\n",
        "\n",
        "incorrect = (predicted != labels)\n",
        "incorrect_indices = incorrect.nonzero(as_tuple=True)[0]\n",
        "print(\"\\nIncorrectly classified examples:\")\n",
        "plt.figure(figsize=(10,4))\n",
        "for i in range(5):\n",
        "    if i < len(incorrect_indices):\n",
        "        idx = incorrect_indices[i]\n",
        "        plt.subplot(1, 5, i+1)\n",
        "        plt.imshow(images[idx][0], cmap='gray')\n",
        "        plt.title(f\"Pred: {predicted[idx]}\\nTrue: {labels[idx]}\")\n",
        "        plt.axis('off')\n",
        "plt.show()"
      ],
      "metadata": {
        "colab": {
          "base_uri": "https://localhost:8080/",
          "height": 305
        },
        "id": "hbOh_lm1-l17",
        "outputId": "fa248007-6f27-4ce2-fd94-0746491ee943"
      },
      "execution_count": 8,
      "outputs": [
        {
          "output_type": "stream",
          "name": "stdout",
          "text": [
            "\n",
            "Correctly classified examples:\n"
          ]
        },
        {
          "output_type": "display_data",
          "data": {
            "text/plain": [
              "<Figure size 1000x400 with 5 Axes>"
            ],
            "image/png": "[encoded data removed]"
          },
          "metadata": {}
        },
        {
          "output_type": "stream",
          "name": "stdout",
          "text": [
            "\n",
            "Incorrectly classified examples:\n"
          ]
        },
        {
          "output_type": "display_data",
          "data": {
            "text/plain": [
              "<Figure size 1000x400 with 0 Axes>"
            ]
          },
          "metadata": {}
        }
      ]
    }
  ]
}